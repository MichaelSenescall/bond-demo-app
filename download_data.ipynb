{
 "cells": [
  {
   "cell_type": "markdown",
   "metadata": {},
   "source": [
    "# Imports & Global Variables"
   ]
  },
  {
   "cell_type": "code",
   "execution_count": 1,
   "metadata": {},
   "outputs": [],
   "source": [
    "from pandas_datareader import data"
   ]
  },
  {
   "cell_type": "code",
   "execution_count": 2,
   "metadata": {},
   "outputs": [],
   "source": [
    "start_year = \"1995\"\n",
    "end_year = \"2020\""
   ]
  },
  {
   "cell_type": "markdown",
   "metadata": {},
   "source": [
    "# Yahoo Finance"
   ]
  },
  {
   "cell_type": "code",
   "execution_count": 5,
   "metadata": {},
   "outputs": [],
   "source": [
    "tickers = {\n",
    "    \"MSFT\": \"Microsoft\",\n",
    "    \"AAPL\": \"Apple\",\n",
    "    \"GOOG\": \"Google\",\n",
    "    \"AMZN\": \"Amazon\",\n",
    "    \"TSLA\": \"Tesla\",\n",
    "    \"FB\"  : \"Facebook\",\n",
    "    \"NVDA\": \"Nvidia\",\n",
    "    \"V\"   : \"Visa\",\n",
    "    \"MA\"  : \"MasterCard\",\n",
    "    \"ADBE\": \"Adobe\"\n",
    "}"
   ]
  },
  {
   "cell_type": "code",
   "execution_count": 9,
   "metadata": {},
   "outputs": [],
   "source": [
    "# Pull data from Yahoo Finance\n",
    "df = data.get_data_yahoo(list(tickers.keys()), start_year, int(end_year)+1, interval='m')\n",
    "df.drop(df.tail(1).index,inplace=True)\n",
    "df.index = df.index.to_period('M')\n",
    "\n",
    "# Calculate returns and export to CSV\n",
    "rets = (df[\"Close\"]-df[\"Open\"])/df[\"Open\"]\n",
    "rets.rename(columns=tickers, inplace=True)\n",
    "rets.to_csv(\"yahoo_rets.csv\")"
   ]
  },
  {
   "cell_type": "markdown",
   "metadata": {},
   "source": [
    "# Fama-French"
   ]
  },
  {
   "cell_type": "code",
   "execution_count": 8,
   "metadata": {},
   "outputs": [],
   "source": [
    "# Pull data from Fama-French\n",
    "rets = data.get_data_famafrench(\"F-F_Research_Data_5_Factors_2x3\", start_year, int(end_year)+1)[0].div(100)\n",
    "rets.drop(rets.tail(1).index,inplace=True)\n",
    "\n",
    "# returns and export to CSV\n",
    "rets.to_csv(\"fama_french_5_factor_rets.csv\")"
   ]
  }
 ],
 "metadata": {
  "interpreter": {
   "hash": "6e992cfa6e1119775212d01d70340b968a774486e1cbdebfcc36e7b93e1fea1d"
  },
  "kernelspec": {
   "display_name": "Python 3.10.0 64-bit ('env': venv)",
   "language": "python",
   "name": "python3"
  },
  "language_info": {
   "codemirror_mode": {
    "name": "ipython",
    "version": 3
   },
   "file_extension": ".py",
   "mimetype": "text/x-python",
   "name": "python",
   "nbconvert_exporter": "python",
   "pygments_lexer": "ipython3",
   "version": "3.8.8"
  },
  "orig_nbformat": 4
 },
 "nbformat": 4,
 "nbformat_minor": 2
}
